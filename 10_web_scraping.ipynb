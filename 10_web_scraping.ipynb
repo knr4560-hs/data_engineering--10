{
 "cells": [
  {
   "cell_type": "markdown",
   "metadata": {},
   "source": [
    "## <strong> 10. 웹 스크래핑 </strong>"
   ]
  },
  {
   "cell_type": "markdown",
   "metadata": {},
   "source": [
    "필요한 라이브러리\n",
    "+ ```requests```: HTTP 프로토콜을 통해 HTML 문서를 요청\n",
    "+ ```beautifulsoup4```: HTML 문서로 부터 원하는 데이터 추출"
   ]
  },
  {
   "cell_type": "code",
   "execution_count": 8,
   "metadata": {},
   "outputs": [
    {
     "name": "stdout",
     "output_type": "stream",
     "text": [
      "Requirement already satisfied: requests in /Users/parkjunhyeong/anaconda3/lib/python3.10/site-packages (2.28.1)\n",
      "Requirement already satisfied: charset-normalizer<3,>=2 in /Users/parkjunhyeong/anaconda3/lib/python3.10/site-packages (from requests) (2.0.4)\n",
      "Requirement already satisfied: idna<4,>=2.5 in /Users/parkjunhyeong/anaconda3/lib/python3.10/site-packages (from requests) (2.10)\n",
      "Requirement already satisfied: certifi>=2017.4.17 in /Users/parkjunhyeong/anaconda3/lib/python3.10/site-packages (from requests) (2022.12.7)\n",
      "Requirement already satisfied: urllib3<1.27,>=1.21.1 in /Users/parkjunhyeong/anaconda3/lib/python3.10/site-packages (from requests) (1.26.14)\n",
      "Note: you may need to restart the kernel to use updated packages.\n"
     ]
    }
   ],
   "source": [
    "pip install requests"
   ]
  },
  {
   "cell_type": "code",
   "execution_count": 9,
   "metadata": {},
   "outputs": [
    {
     "name": "stdout",
     "output_type": "stream",
     "text": [
      "Requirement already satisfied: beautifulsoup4 in /Users/parkjunhyeong/anaconda3/lib/python3.10/site-packages (4.11.1)\n",
      "Requirement already satisfied: soupsieve>1.2 in /Users/parkjunhyeong/anaconda3/lib/python3.10/site-packages (from beautifulsoup4) (2.3.2.post1)\n",
      "Note: you may need to restart the kernel to use updated packages.\n"
     ]
    }
   ],
   "source": [
    "pip install beautifulsoup4"
   ]
  },
  {
   "cell_type": "code",
   "execution_count": 10,
   "metadata": {},
   "outputs": [],
   "source": [
    "import requests\n",
    "from bs4 import BeautifulSoup"
   ]
  },
  {
   "cell_type": "markdown",
   "metadata": {},
   "source": [
    "### <strong> 예제 1: 메타버스 키워드 검색 및 뉴스 타이틀 추출\n",
    "----"
   ]
  },
  {
   "cell_type": "code",
   "execution_count": 11,
   "metadata": {
    "scrolled": true,
    "tags": []
   },
   "outputs": [
    {
     "data": {
      "text/plain": [
       "<Response [200]>"
      ]
     },
     "execution_count": 11,
     "metadata": {},
     "output_type": "execute_result"
    }
   ],
   "source": [
    "# 웹페이지 주소\n",
    "url = 'https://search.naver.com/search.naver?where=nexearch&sm=top_hty&fbm=0&ie=utf8&query=%EB%A9%94%ED%83%80%EB%B2%84%EC%8A%A4'\n",
    "\n",
    "# [+] HTTP GET Request로 HTML 문서 받아오기\n",
    "res = requests.get(url)\n",
    "\n",
    "res"
   ]
  },
  {
   "cell_type": "code",
   "execution_count": 13,
   "metadata": {},
   "outputs": [],
   "source": [
    "# [+] HTML 문서로부터 텍스트 데이터 덩어리 추출\n",
    "html_doc = res.text\n",
    "html_doc"
   ]
  },
  {
   "cell_type": "markdown",
   "metadata": {},
   "source": [
    "#### <strong> BeautifulSoup 파서 사용하기</strong>\n",
    "+ ```html.parser```: HTML 문서 전용 파서\n",
    "+ ```xml```: XML 문서 전용 파서"
   ]
  },
  {
   "cell_type": "code",
   "execution_count": 14,
   "metadata": {
    "scrolled": true,
    "tags": []
   },
   "outputs": [],
   "source": [
    "# [+] Beautiful Soup에서 제공하는 HTML 파서 생성\n",
    "soup = BeautifulSoup(html_doc, 'html.parser')"
   ]
  },
  {
   "cell_type": "markdown",
   "metadata": {},
   "source": [
    "```BeautifulSoup.prettify()```: 문서 정보를 시각적으로 보기 좋게 재구조화"
   ]
  },
  {
   "cell_type": "code",
   "execution_count": 19,
   "metadata": {},
   "outputs": [
    {
     "ename": "SyntaxError",
     "evalue": "incomplete input (3435108921.py, line 1)",
     "output_type": "error",
     "traceback": [
      "\u001b[0;36m  Cell \u001b[0;32mIn[19], line 1\u001b[0;36m\u001b[0m\n\u001b[0;31m    print(soup.prettify()\u001b[0m\n\u001b[0m                         ^\u001b[0m\n\u001b[0;31mSyntaxError\u001b[0m\u001b[0;31m:\u001b[0m incomplete input\n"
     ]
    }
   ],
   "source": [
    "print(soup.prettify())"
   ]
  },
  {
   "cell_type": "markdown",
   "metadata": {},
   "source": [
    "`BeautifulSoup.find_all()`: 특정 태그 정보들을 검색"
   ]
  },
  {
   "cell_type": "code",
   "execution_count": 20,
   "metadata": {
    "scrolled": true,
    "tags": []
   },
   "outputs": [
    {
     "ename": "SyntaxError",
     "evalue": "incomplete input (1383092037.py, line 2)",
     "output_type": "error",
     "traceback": [
      "\u001b[0;36m  Cell \u001b[0;32mIn[20], line 2\u001b[0;36m\u001b[0m\n\u001b[0;31m    soup.find_all('a'\u001b[0m\n\u001b[0m                     ^\u001b[0m\n\u001b[0;31mSyntaxError\u001b[0m\u001b[0;31m:\u001b[0m incomplete input\n"
     ]
    }
   ],
   "source": [
    "# [+] 문서 내에 모든 <a> 태그들을 검색\n",
    "soup.find_all('a')"
   ]
  },
  {
   "cell_type": "code",
   "execution_count": 21,
   "metadata": {
    "scrolled": true,
    "tags": []
   },
   "outputs": [
    {
     "data": {
      "text/plain": [
       "[<a class=\"news_tit\" href=\"http://www.edaily.co.kr/news/newspath.asp?newsid=02929046639057512\" onclick=\"return goOtherCR(this, 'a=nws_all*a.tit&amp;r=1&amp;i=880000E7_000000000000000005870937&amp;g=018.0005870937&amp;u='+urlencode(this.href));\" target=\"_blank\" title=\"2024 코리아 메타버스 페스티벌 ‘KMF 2024’ 성료\">2024 코리아 <mark>메타버스</mark> 페스티벌 ‘KMF 2024’ 성료</a>,\n",
       " <a class=\"news_tit\" href=\"https://www.ddaily.co.kr/page/view/2024102815481725046\" onclick=\"return goOtherCR(this, 'a=nws_all*a.tit&amp;r=4&amp;i=880000AC_000000000000000002185192&amp;g=138.0002185192&amp;u='+urlencode(this.href));\" target=\"_blank\" title=\"메타버스 사업 힘주는 라온메타, 실습 콘텐츠 경쟁력은?\"><mark>메타버스</mark> 사업 힘주는 라온메타, 실습 콘텐츠 경쟁력은?</a>,\n",
       " <a class=\"news_tit\" href=\"https://www.busan.com/view/busan/view.php?code=2024102813504030043\" onclick=\"return goOtherCR(this, 'a=nws_all*a.tit&amp;r=7&amp;i=880000CE_000000000000000001294780&amp;g=082.0001294780&amp;u='+urlencode(this.href));\" target=\"_blank\" title=\"부산정보산업진흥원, 아세안 7개국과 XR·메타버스 기술 교류\">부산정보산업진흥원, 아세안 7개국과 XR·<mark>메타버스</mark> 기술 교류</a>,\n",
       " <a class=\"news_tit\" href=\"https://www.yna.co.kr/view/AKR20241025123900530?input=1195m\" onclick=\"return goOtherCR(this, 'a=nws_all*a.tit&amp;r=10&amp;i=880000D8_000000000000000015008652&amp;g=001.0015008652&amp;u='+urlencode(this.href));\" target=\"_blank\" title='서울교육 메타버스, 유니티 어워즈 입선…\"교육기관 최초\"'>서울교육 <mark>메타버스</mark>, 유니티 어워즈 입선…\"교육기관 최초\"</a>]"
      ]
     },
     "execution_count": 21,
     "metadata": {},
     "output_type": "execute_result"
    }
   ],
   "source": [
    "# [+] 뉴스에 해당되는 태그들만 검색하기\n",
    "# 뉴스 태그 = \"class\" 속성이 \"news_tit\"인 <a> 태그\n",
    "news = soup.find_all(\"a\", {\"class\" : \"news_tit\"})\n",
    "news"
   ]
  },
  {
   "cell_type": "code",
   "execution_count": 22,
   "metadata": {},
   "outputs": [
    {
     "data": {
      "text/plain": [
       "<a class=\"news_tit\" href=\"http://www.edaily.co.kr/news/newspath.asp?newsid=02929046639057512\" onclick=\"return goOtherCR(this, 'a=nws_all*a.tit&amp;r=1&amp;i=880000E7_000000000000000005870937&amp;g=018.0005870937&amp;u='+urlencode(this.href));\" target=\"_blank\" title=\"2024 코리아 메타버스 페스티벌 ‘KMF 2024’ 성료\">2024 코리아 <mark>메타버스</mark> 페스티벌 ‘KMF 2024’ 성료</a>"
      ]
     },
     "execution_count": 22,
     "metadata": {},
     "output_type": "execute_result"
    }
   ],
   "source": [
    "# 첫 번째 뉴스\n",
    "news[0]"
   ]
  },
  {
   "cell_type": "code",
   "execution_count": 23,
   "metadata": {},
   "outputs": [
    {
     "data": {
      "text/plain": [
       "'http://www.edaily.co.kr/news/newspath.asp?newsid=02929046639057512'"
      ]
     },
     "execution_count": 23,
     "metadata": {},
     "output_type": "execute_result"
    }
   ],
   "source": [
    "# [+] 뉴스의 URL 정보 가져오기\n",
    "news[0].get('href')"
   ]
  },
  {
   "cell_type": "code",
   "execution_count": 24,
   "metadata": {},
   "outputs": [
    {
     "data": {
      "text/plain": [
       "'2024 코리아 메타버스 페스티벌 ‘KMF 2024’ 성료'"
      ]
     },
     "execution_count": 24,
     "metadata": {},
     "output_type": "execute_result"
    }
   ],
   "source": [
    "# [+] 뉴스의 제목 정보 가져오기\n",
    "news[0].get('title')"
   ]
  },
  {
   "cell_type": "code",
   "execution_count": 25,
   "metadata": {},
   "outputs": [
    {
     "name": "stdout",
     "output_type": "stream",
     "text": [
      "2024 코리아 메타버스 페스티벌 ‘KMF 2024’ 성료\n",
      "메타버스 사업 힘주는 라온메타, 실습 콘텐츠 경쟁력은?\n",
      "부산정보산업진흥원, 아세안 7개국과 XR·메타버스 기술 교류\n",
      "서울교육 메타버스, 유니티 어워즈 입선…\"교육기관 최초\"\n"
     ]
    }
   ],
   "source": [
    "# [+] 모든 뉴스의 제목 출력하기\n",
    "for i in range(len(news)):\n",
    "    print(news[i].get('title'))"
   ]
  }
 ],
 "metadata": {
  "kernelspec": {
   "display_name": "Python 3 (ipykernel)",
   "language": "python",
   "name": "python3"
  },
  "language_info": {
   "codemirror_mode": {
    "name": "ipython",
    "version": 3
   },
   "file_extension": ".py",
   "mimetype": "text/x-python",
   "name": "python",
   "nbconvert_exporter": "python",
   "pygments_lexer": "ipython3",
   "version": "3.10.9"
  }
 },
 "nbformat": 4,
 "nbformat_minor": 4
}
